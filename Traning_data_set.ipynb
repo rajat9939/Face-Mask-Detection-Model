{
 "cells": [
  {
   "cell_type": "code",
   "execution_count": 1,
   "metadata": {},
   "outputs": [],
   "source": [
    "import numpy as np\n",
    "import cv2\n",
    "import os\n",
    "import random\n",
    "import matplotlib.pyplot as plt\n",
    "import pickle"
   ]
  },
  {
   "cell_type": "code",
   "execution_count": 2,
   "metadata": {},
   "outputs": [],
   "source": [
    "DIRECTORY = r'C:\\Face-Mask-Detection Model\\Dataset\\train'\n",
    "CATEGORIES = ['with_mask', 'without_mask']"
   ]
  },
  {
   "cell_type": "code",
   "execution_count": 13,
   "metadata": {},
   "outputs": [
    {
     "name": "stdout",
     "output_type": "stream",
     "text": [
      "[[[18 40 45]\n",
      "  [19 40 43]\n",
      "  [18 37 40]\n",
      "  ...\n",
      "  [23 37 35]\n",
      "  [23 37 35]\n",
      "  [23 37 35]]\n",
      "\n",
      " [[20 42 47]\n",
      "  [19 40 43]\n",
      "  [19 38 41]\n",
      "  ...\n",
      "  [26 39 37]\n",
      "  [25 39 37]\n",
      "  [24 38 36]]\n",
      "\n",
      " [[21 43 48]\n",
      "  [20 41 44]\n",
      "  [20 39 42]\n",
      "  ...\n",
      "  [29 43 41]\n",
      "  [27 41 39]\n",
      "  [25 39 37]]\n",
      "\n",
      " ...\n",
      "\n",
      " [[69 76 66]\n",
      "  [71 79 69]\n",
      "  [74 82 72]\n",
      "  ...\n",
      "  [66 73 76]\n",
      "  [67 75 78]\n",
      "  [68 76 79]]\n",
      "\n",
      " [[66 75 65]\n",
      "  [69 77 67]\n",
      "  [72 80 70]\n",
      "  ...\n",
      "  [77 84 87]\n",
      "  [76 83 86]\n",
      "  [75 82 85]]\n",
      "\n",
      " [[66 74 64]\n",
      "  [69 76 67]\n",
      "  [71 79 69]\n",
      "  ...\n",
      "  [87 94 97]\n",
      "  [85 92 95]\n",
      "  [84 90 93]]]\n",
      "[[[18 40 45]\n",
      "  [19 40 43]\n",
      "  [18 37 40]\n",
      "  ...\n",
      "  [23 37 35]\n",
      "  [23 37 35]\n",
      "  [23 37 35]]\n",
      "\n",
      " [[20 42 47]\n",
      "  [19 40 43]\n",
      "  [19 38 41]\n",
      "  ...\n",
      "  [26 39 37]\n",
      "  [25 39 37]\n",
      "  [24 38 36]]\n",
      "\n",
      " [[21 43 48]\n",
      "  [20 41 44]\n",
      "  [20 39 42]\n",
      "  ...\n",
      "  [29 43 41]\n",
      "  [27 41 39]\n",
      "  [25 39 37]]\n",
      "\n",
      " ...\n",
      "\n",
      " [[69 76 66]\n",
      "  [71 79 69]\n",
      "  [74 82 72]\n",
      "  ...\n",
      "  [66 73 76]\n",
      "  [67 75 78]\n",
      "  [68 76 79]]\n",
      "\n",
      " [[66 75 65]\n",
      "  [69 77 67]\n",
      "  [72 80 70]\n",
      "  ...\n",
      "  [77 84 87]\n",
      "  [76 83 86]\n",
      "  [75 82 85]]\n",
      "\n",
      " [[66 74 64]\n",
      "  [69 76 67]\n",
      "  [71 79 69]\n",
      "  ...\n",
      "  [87 94 97]\n",
      "  [85 92 95]\n",
      "  [84 90 93]]]\n"
     ]
    }
   ],
   "source": [
    "IMG_SIZE = 150\n",
    "\n",
    "data = []\n",
    "data_path = []\n",
    "\n",
    "for category in CATEGORIES:\n",
    "    folder = os.path.join(DIRECTORY, category)\n",
    "    label = CATEGORIES.index(category)\n",
    "    for img in os.listdir(folder):\n",
    "        img_path = os.path.join(folder, img)\n",
    "        data_path.append(img_path)\n",
    "        img_arr = cv2.imread(img_path)\n",
    "        img_arr = cv2.resize(img_arr,(IMG_SIZE,IMG_SIZE))\n",
    "        data.append([img_arr, label])\n",
    "    \n",
    "    print(data[0][0])\n",
    "    \n",
    "        \n",
    "    \n",
    "        \n",
    "        "
   ]
  },
  {
   "cell_type": "code",
   "execution_count": 4,
   "metadata": {},
   "outputs": [],
   "source": [
    "random.shuffle(data)\n",
    "random.shuffle(data_path)"
   ]
  },
  {
   "cell_type": "code",
   "execution_count": 5,
   "metadata": {},
   "outputs": [],
   "source": [
    "X = []\n",
    "Y = []\n",
    "\n",
    "for features, labels in data:\n",
    "    X.append(features)\n",
    "    Y.append(labels)"
   ]
  },
  {
   "cell_type": "code",
   "execution_count": 6,
   "metadata": {},
   "outputs": [],
   "source": [
    "X = np.array(X)\n",
    "Y = np.array(Y)"
   ]
  },
  {
   "cell_type": "code",
   "execution_count": 7,
   "metadata": {},
   "outputs": [],
   "source": [
    "pickle.dump(X,open('X.pkl','wb'))\n",
    "pickle.dump(Y,open('Y.pkl','wb'))\n"
   ]
  },
  {
   "cell_type": "code",
   "execution_count": null,
   "metadata": {},
   "outputs": [],
   "source": []
  },
  {
   "cell_type": "code",
   "execution_count": null,
   "metadata": {},
   "outputs": [],
   "source": []
  }
 ],
 "metadata": {
  "kernelspec": {
   "display_name": "Python 3",
   "language": "python",
   "name": "python3"
  },
  "language_info": {
   "codemirror_mode": {
    "name": "ipython",
    "version": 3
   },
   "file_extension": ".py",
   "mimetype": "text/x-python",
   "name": "python",
   "nbconvert_exporter": "python",
   "pygments_lexer": "ipython3",
   "version": "3.7.8"
  }
 },
 "nbformat": 4,
 "nbformat_minor": 4
}
